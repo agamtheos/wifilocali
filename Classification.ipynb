{
  "nbformat": 4,
  "nbformat_minor": 0,
  "metadata": {
    "colab": {
      "name": "Untitled0.ipynb",
      "provenance": [],
      "collapsed_sections": [],
      "authorship_tag": "ABX9TyPwcGedILLF/T7aPs/mTPD9",
      "include_colab_link": true
    },
    "kernelspec": {
      "name": "python3",
      "display_name": "Python 3"
    },
    "language_info": {
      "name": "python"
    }
  },
  "cells": [
    {
      "cell_type": "markdown",
      "metadata": {
        "id": "view-in-github",
        "colab_type": "text"
      },
      "source": [
        "<a href=\"https://colab.research.google.com/github/agamtheos/wifilocali/blob/main/Classification.ipynb\" target=\"_parent\"><img src=\"https://colab.research.google.com/assets/colab-badge.svg\" alt=\"Open In Colab\"/></a>"
      ]
    },
    {
      "cell_type": "code",
      "metadata": {
        "colab": {
          "base_uri": "https://localhost:8080/",
          "height": 198
        },
        "id": "q--c_GjPsHpP",
        "outputId": "704e2cd8-0d99-4d00-9d05-65aa7e6c46d1"
      },
      "source": [
        "#Load libraries\n",
        "import pandas as pd\n",
        "from sklearn.tree import DecisionTreeClassifier #Import Decision Tree Classifier\n",
        "from sklearn.model_selection import train_test_split #Import train_test_split function\n",
        "from sklearn import metrics #Import scikit-learn metrics module for accuracy calculation\n",
        "import warnings\n",
        "from sklearn.metrics import classification_report\n",
        "from sklearn import svm\n",
        "from sklearn import metrics\n",
        "from sklearn.ensemble import RandomForestClassifier\n",
        "warnings.filterwarnings('ignore')\n",
        "\n",
        "col_names = ['wifi signal 1','wifi signal 2','wifi signal 3','wifi signal 4','wifi signal 5','wifi signal 6','wifi signal 7','target']\n",
        "#Load dataset\n",
        "wifi  = pd.read_csv(\"https://raw.githubusercontent.com/agamtheos/wifilocali/main/wifi_localization.csv\")\n",
        "wifi.head()\n",
        "\n",
        "\n",
        "\n"
      ],
      "execution_count": 151,
      "outputs": [
        {
          "output_type": "execute_result",
          "data": {
            "text/html": [
              "<div>\n",
              "<style scoped>\n",
              "    .dataframe tbody tr th:only-of-type {\n",
              "        vertical-align: middle;\n",
              "    }\n",
              "\n",
              "    .dataframe tbody tr th {\n",
              "        vertical-align: top;\n",
              "    }\n",
              "\n",
              "    .dataframe thead th {\n",
              "        text-align: right;\n",
              "    }\n",
              "</style>\n",
              "<table border=\"1\" class=\"dataframe\">\n",
              "  <thead>\n",
              "    <tr style=\"text-align: right;\">\n",
              "      <th></th>\n",
              "      <th>wifi signal 1</th>\n",
              "      <th>wifi signal 2</th>\n",
              "      <th>wifi signal 3</th>\n",
              "      <th>wifi signal 4</th>\n",
              "      <th>wifi signal 5</th>\n",
              "      <th>wifi signal 6</th>\n",
              "      <th>wifi signal 7</th>\n",
              "      <th>target</th>\n",
              "    </tr>\n",
              "  </thead>\n",
              "  <tbody>\n",
              "    <tr>\n",
              "      <th>0</th>\n",
              "      <td>-64</td>\n",
              "      <td>-56</td>\n",
              "      <td>-61</td>\n",
              "      <td>-66</td>\n",
              "      <td>-71</td>\n",
              "      <td>-82</td>\n",
              "      <td>-81</td>\n",
              "      <td>1</td>\n",
              "    </tr>\n",
              "    <tr>\n",
              "      <th>1</th>\n",
              "      <td>-68</td>\n",
              "      <td>-57</td>\n",
              "      <td>-61</td>\n",
              "      <td>-65</td>\n",
              "      <td>-71</td>\n",
              "      <td>-85</td>\n",
              "      <td>-85</td>\n",
              "      <td>1</td>\n",
              "    </tr>\n",
              "    <tr>\n",
              "      <th>2</th>\n",
              "      <td>-63</td>\n",
              "      <td>-60</td>\n",
              "      <td>-60</td>\n",
              "      <td>-67</td>\n",
              "      <td>-76</td>\n",
              "      <td>-85</td>\n",
              "      <td>-84</td>\n",
              "      <td>1</td>\n",
              "    </tr>\n",
              "    <tr>\n",
              "      <th>3</th>\n",
              "      <td>-61</td>\n",
              "      <td>-60</td>\n",
              "      <td>-68</td>\n",
              "      <td>-62</td>\n",
              "      <td>-77</td>\n",
              "      <td>-90</td>\n",
              "      <td>-80</td>\n",
              "      <td>1</td>\n",
              "    </tr>\n",
              "    <tr>\n",
              "      <th>4</th>\n",
              "      <td>-63</td>\n",
              "      <td>-65</td>\n",
              "      <td>-60</td>\n",
              "      <td>-63</td>\n",
              "      <td>-77</td>\n",
              "      <td>-81</td>\n",
              "      <td>-87</td>\n",
              "      <td>1</td>\n",
              "    </tr>\n",
              "  </tbody>\n",
              "</table>\n",
              "</div>"
            ],
            "text/plain": [
              "   wifi signal 1  wifi signal 2  ...  wifi signal 7  target\n",
              "0            -64            -56  ...            -81       1\n",
              "1            -68            -57  ...            -85       1\n",
              "2            -63            -60  ...            -84       1\n",
              "3            -61            -60  ...            -80       1\n",
              "4            -63            -65  ...            -87       1\n",
              "\n",
              "[5 rows x 8 columns]"
            ]
          },
          "metadata": {
            "tags": []
          },
          "execution_count": 151
        }
      ]
    },
    {
      "cell_type": "code",
      "metadata": {
        "colab": {
          "base_uri": "https://localhost:8080/"
        },
        "id": "-zYH9MDuCWCY",
        "outputId": "8c1a1af6-b806-456a-8a29-cfab3c8a029d"
      },
      "source": [
        "#Cek Missing VAlue\n",
        "if wifi.isna().any().sum() == 0:\n",
        "    print('Dataset does not have missing values')\n",
        "else:\n",
        "    print('Dataset have missing values')"
      ],
      "execution_count": 152,
      "outputs": [
        {
          "output_type": "stream",
          "text": [
            "Dataset does not have missing values\n"
          ],
          "name": "stdout"
        }
      ]
    },
    {
      "cell_type": "code",
      "metadata": {
        "colab": {
          "base_uri": "https://localhost:8080/",
          "height": 40
        },
        "id": "-7tmlDTmBJYm",
        "outputId": "b21017b0-bf41-4980-b572-64998046aa86"
      },
      "source": [
        "#MISSING VALUE\n",
        "null_col = wifi.columns[wifi.isna().any()]\n",
        "\n",
        "null_df = wifi[null_col].isna().sum().rename('missing rows').to_frame()\n",
        "null_df['percentage'] = round(null_df['missing rows'] / wifi.shape[0] * 100, 3)\n",
        "null_df['percentage'] = null_df['percentage'].astype('str')\n",
        "\n",
        "null_df.sort_values('missing rows', ascending=False).style.background_gradient('Reds')\n"
      ],
      "execution_count": 153,
      "outputs": [
        {
          "output_type": "execute_result",
          "data": {
            "text/html": [
              "<style  type=\"text/css\" >\n",
              "</style><table id=\"T_e60a9484_a1da_11eb_b12b_0242ac1c0002\" ><thead>    <tr>        <th class=\"blank level0\" ></th>        <th class=\"col_heading level0 col0\" >missing rows</th>        <th class=\"col_heading level0 col1\" >percentage</th>    </tr></thead><tbody>\n",
              "        </tbody></table>"
            ],
            "text/plain": [
              "<pandas.io.formats.style.Styler at 0x7f68ce79bb50>"
            ]
          },
          "metadata": {
            "tags": []
          },
          "execution_count": 153
        }
      ]
    },
    {
      "cell_type": "code",
      "metadata": {
        "colab": {
          "base_uri": "https://localhost:8080/"
        },
        "id": "jayyhkblCQ4r",
        "outputId": "cfd97777-1b6e-41e8-d841-8e8b7a825486"
      },
      "source": [
        "#Duplikat Row\n",
        "print(\"\")\n",
        "print(\"==============================================\")\n",
        "print('Total duplicated rows:', wifi.duplicated().sum())\n",
        "\n",
        "wifi.drop_duplicates(inplace=True)"
      ],
      "execution_count": 154,
      "outputs": [
        {
          "output_type": "stream",
          "text": [
            "\n",
            "==============================================\n",
            "Total duplicated rows: 0\n"
          ],
          "name": "stdout"
        }
      ]
    },
    {
      "cell_type": "code",
      "metadata": {
        "colab": {
          "base_uri": "https://localhost:8080/"
        },
        "id": "WKpis2RYBFbV",
        "outputId": "3dc5f7dd-5bcf-43e2-8254-5c11c1887bac"
      },
      "source": [
        "#split dataset in features and target variable\n",
        "feature_cols = ['wifi signal 1','wifi signal 2','wifi signal 3','wifi signal 4','wifi signal 5','wifi signal 6','wifi signal 7']\n",
        "X = wifi[feature_cols] # Features\n",
        "y = wifi['target'] # Target variable  \n",
        "\n",
        "# Split dataset into training set and test set\n",
        "X_train, X_test, y_train, y_test = train_test_split(X, y, test_size=0.3, random_state=1) # 70% training and 30% test\n",
        "\n",
        "# Create Decision Tree classifier object\n",
        "clf = DecisionTreeClassifier()\n",
        "# Train Decision Tree Classifier\n",
        "clf = clf.fit(X_train,y_train)\n",
        "#Predict the response for test dataset\n",
        "y_pred = clf.predict(X_test)\n",
        "\n",
        "print(\"Accuracy with Decision Tree Classifier :\",metrics.accuracy_score(y_test, y_pred))"
      ],
      "execution_count": 155,
      "outputs": [
        {
          "output_type": "stream",
          "text": [
            "Accuracy with Decision Tree Classifier : 0.9683333333333334\n"
          ],
          "name": "stdout"
        }
      ]
    },
    {
      "cell_type": "code",
      "metadata": {
        "colab": {
          "base_uri": "https://localhost:8080/"
        },
        "id": "5MDwCCegXPvm",
        "outputId": "a74e2ebb-563d-45cd-d660-2d1057c07b69"
      },
      "source": [
        "#Random forest classifier\n",
        "\n",
        "#Train the model\n",
        "rdf_model = RandomForestClassifier().fit(X_train, y_train)\n",
        "\n",
        "#Data train\n",
        "y_train_pred = rdf_model.predict(X_train)\n",
        "print('Classification Report Training Model (Random Forest Classifier) :')\n",
        "print(classification_report(y_train, y_train_pred))"
      ],
      "execution_count": 156,
      "outputs": [
        {
          "output_type": "stream",
          "text": [
            "Classification Report Training Model (Random Forest Classifier) :\n",
            "              precision    recall  f1-score   support\n",
            "\n",
            "           1       1.00      1.00      1.00       358\n",
            "           2       1.00      1.00      1.00       343\n",
            "           3       1.00      1.00      1.00       354\n",
            "           4       1.00      1.00      1.00       345\n",
            "\n",
            "    accuracy                           1.00      1400\n",
            "   macro avg       1.00      1.00      1.00      1400\n",
            "weighted avg       1.00      1.00      1.00      1400\n",
            "\n"
          ],
          "name": "stdout"
        }
      ]
    },
    {
      "cell_type": "code",
      "metadata": {
        "colab": {
          "base_uri": "https://localhost:8080/"
        },
        "id": "zjY5tiBgYcUI",
        "outputId": "5a55d428-46e7-4377-d97b-39c2c83da02a"
      },
      "source": [
        "#Data Test\n",
        "# Predict\n",
        "y_test_pred = rdf_model .predict(X_test)\n",
        "# Print classification report\n",
        "print('Classification Report Testing Model (Random Forest Classifier):')\n",
        "print(classification_report(y_test, y_test_pred))"
      ],
      "execution_count": 157,
      "outputs": [
        {
          "output_type": "stream",
          "text": [
            "Classification Report Testing Model (Random Forest Classifier):\n",
            "              precision    recall  f1-score   support\n",
            "\n",
            "           1       0.99      1.00      1.00       142\n",
            "           2       0.99      0.96      0.98       157\n",
            "           3       0.96      0.97      0.97       146\n",
            "           4       0.99      1.00      0.99       155\n",
            "\n",
            "    accuracy                           0.98       600\n",
            "   macro avg       0.98      0.98      0.98       600\n",
            "weighted avg       0.98      0.98      0.98       600\n",
            "\n"
          ],
          "name": "stdout"
        }
      ]
    },
    {
      "cell_type": "code",
      "metadata": {
        "colab": {
          "base_uri": "https://localhost:8080/"
        },
        "id": "Ri6SgoTUY9Yr",
        "outputId": "8ad7319c-dd34-4fea-ecec-8a465c64ee2e"
      },
      "source": [
        "#Create a svm Classifier\n",
        "clf = svm.SVC(kernel='linear') # Linear Kernel\n",
        "\n",
        "#Train the model using the training sets\n",
        "clf.fit(X_train, y_train)\n",
        "\n",
        "#Predict the response for test dataset\n",
        "y_pred = clf.predict(X_test)\n",
        "\n",
        "# Model Accuracy: how often is the classifier correct?\n",
        "print(\"Accuracy:\",metrics.accuracy_score(y_test, y_pred))"
      ],
      "execution_count": 158,
      "outputs": [
        {
          "output_type": "stream",
          "text": [
            "Accuracy: 0.98\n"
          ],
          "name": "stdout"
        }
      ]
    }
  ]
}